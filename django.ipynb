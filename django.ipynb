{
 "cells": [
  {
   "cell_type": "code",
   "execution_count": null,
   "metadata": {},
   "outputs": [],
   "source": []
  },
  {
   "cell_type": "markdown",
   "metadata": {},
   "source": [
    "<div><center><p style=\"background-color:#64406E;height:80px\">📃🛅creating virtual environment for django</p></center></div>"
   ]
  },
  {
   "cell_type": "markdown",
   "metadata": {},
   "source": [
    " cd desktop \n",
    " mkdir foldername \n",
    " cd foldername\n",
    " python -m venv webapp\n",
    " webapp\\Scripts\\activate \n",
    " pip install django\n",
    " django-admin startproject learning_log .\n",
    " python manage.py migrate \n",
    " python manage.py runserver\n",
    " ctrl click url or copy paste in browser\n",
    " Note ctrl c (to quit) \n",
    " deactivate (to deactivate the virtual env)"
   ]
  },
  {
   "cell_type": "code",
   "execution_count": null,
   "metadata": {},
   "outputs": [],
   "source": []
  }
 ],
 "metadata": {
  "language_info": {
   "name": "python"
  },
  "orig_nbformat": 4
 },
 "nbformat": 4,
 "nbformat_minor": 2
}
