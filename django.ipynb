{
 "cells": [
  {
   "cell_type": "code",
   "execution_count": null,
   "metadata": {},
   "outputs": [],
   "source": []
  },
  {
   "cell_type": "markdown",
   "metadata": {},
   "source": [
    "<div><center><p style=\"background-color:#64406E;height:80px\">📃🛅creating virtual environment for django</p></center></div>"
   ]
  },
  {
   "cell_type": "markdown",
   "metadata": {},
   "source": [
    "1, cd desktop \n",
    "2, mkdir foldername \n",
    "3, cd foldername\n",
    "4, python -m venv webapp\n",
    "5, webapp\\Scripts\\activate \n",
    "6, pip install django\n",
    "7, django-admin startproject learning_log .\n",
    "8, python manage.py migrate \n",
    "9, python manage.py runserver\n",
    "10, ctrl click url or copy paste in browser\n",
    " Note ctrl c (to quit) \n",
    " deactivate (to deactivate the virtual env)"
   ]
  },
  {
   "cell_type": "code",
   "execution_count": null,
   "metadata": {},
   "outputs": [],
   "source": []
  }
 ],
 "metadata": {
  "language_info": {
   "name": "python"
  },
  "orig_nbformat": 4
 },
 "nbformat": 4,
 "nbformat_minor": 2
}
