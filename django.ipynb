{
 "cells": [
  {
   "cell_type": "code",
   "execution_count": null,
   "metadata": {},
   "outputs": [],
   "source": []
  },
  {
   "cell_type": "markdown",
   "metadata": {},
   "source": [
    "<div><center><p style=\"background-color:#64406E;height:80px\">📃🛅creating virtual environment for django</p></center></div>"
   ]
  },
  {
   "cell_type": "markdown",
   "metadata": {},
   "source": [
    " <div>cd desktop <br>\n",
    " mkdir foldername <br>\n",
    " cd foldername<br>\n",
    " python -m venv webapp<br>\n",
    " webapp\\Scripts\\activate<br> \n",
    " pip install django<br>\n",
    " django-admin startproject learning_log .<br>\n",
    " python manage.py migrate <br>\n",
    " python manage.py runserver<br>\n",
    " ctrl click url or copy paste in browser<br>\n",
    " Note ctrl c (to quit) <br>\n",
    " deactivate (to deactivate the virtual env)</div>"
   ]
  },
  {
   "cell_type": "code",
   "execution_count": null,
   "metadata": {},
   "outputs": [],
   "source": []
  }
 ],
 "metadata": {
  "language_info": {
   "name": "python"
  },
  "orig_nbformat": 4
 },
 "nbformat": 4,
 "nbformat_minor": 2
}
